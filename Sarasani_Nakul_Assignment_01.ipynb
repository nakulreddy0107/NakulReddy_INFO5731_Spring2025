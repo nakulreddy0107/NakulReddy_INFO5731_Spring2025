{
  "cells": [
    {
      "cell_type": "markdown",
      "metadata": {
        "id": "view-in-github",
        "colab_type": "text"
      },
      "source": [
        "<a href=\"https://colab.research.google.com/github/nakulreddy0107/NakulReddy_INFO5731_Spring2025/blob/main/Sarasani_Nakul_Assignment_01.ipynb\" target=\"_parent\"><img src=\"https://colab.research.google.com/assets/colab-badge.svg\" alt=\"Open In Colab\"/></a>"
      ]
    },
    {
      "cell_type": "markdown",
      "metadata": {
        "id": "Ryk8D1Q4Wsrp"
      },
      "source": [
        "# **INFO5731 Assignment - 1**"
      ]
    },
    {
      "cell_type": "markdown",
      "source": [],
      "metadata": {
        "id": "Id_JfPUyehpv"
      }
    },
    {
      "cell_type": "markdown",
      "metadata": {
        "id": "qcP6re2g5A5r"
      },
      "source": [
        "This assignment includes range of programming tasks and data analysis exercises, aiming to enhance your Python skills and proficiency in string manipulation, numerical computations, and data science. Follow the instructions carefully and design well-structured Python programs to address each question.\n",
        "\n",
        "\n",
        "1.  Question 1-5 using AI assistance is strictly prohibted\n",
        "2.  Question 6-7 AI assitance is recommended by following guidelines.\n",
        "\n",
        "Guidelines and expectations file can be found in week 2 module.\n",
        "\n",
        "Late Submission will have a penalty of 10% reduction for each day after the deadline."
      ]
    },
    {
      "cell_type": "markdown",
      "metadata": {
        "id": "JkzR8cFAyGik"
      },
      "source": [
        "# Question 1 (10 points).\n",
        "\n",
        "The formula that describes the volume V of a hemisphere with radius r is the following:\n",
        "\n",
        "$ V=\\frac{2}{3}\\ast\\ \\pi\\ast\\ r^3 $\n",
        "\n",
        "Write a program to calculate the value of V when r is in the range of even numbers from 1-20. Output the result in the following format:\n",
        "\n",
        "\tr\tV\n",
        "\t2\t…\n",
        "\t4\t…\n",
        "\t6\t…\n",
        "\t.\n",
        "\t.\n",
        "\t.\n",
        "\t20\t…\n"
      ]
    },
    {
      "cell_type": "code",
      "execution_count": null,
      "metadata": {
        "colab": {
          "base_uri": "https://localhost:8080/"
        },
        "id": "jDyTKYs-yGit",
        "outputId": "adebd54d-e437-4197-c7f5-212786c15bd2"
      },
      "outputs": [
        {
          "name": "stdout",
          "output_type": "stream",
          "text": [
            "r\tV\n",
            "2\t16.76\n",
            "4\t134.04\n",
            "6\t452.39\n",
            "8\t1072.33\n",
            "10\t2094.40\n",
            "12\t3619.11\n",
            "14\t5747.02\n",
            "16\t8578.64\n",
            "18\t12214.51\n",
            "20\t16755.16\n"
          ]
        }
      ],
      "source": [
        "# Your code here\n",
        "\n",
        "import math\n",
        "\n",
        "print(\"r\\tV\")\n",
        "for r in range(2, 21, 2):\n",
        "    V = (2/3) * math.pi * (r ** 3)\n",
        "    print(f\"{r}\\t{V:.2f}\")"
      ]
    },
    {
      "cell_type": "markdown",
      "metadata": {
        "id": "90_NR8c5XGWc"
      },
      "source": [
        "# Question 2 (10 points)\n",
        "\n",
        "(a) Write a Python program to generate a sequence of 12 random numbers falling within the range of 50 to 150.\n",
        "\n",
        "(b) Arrange the generated numbers in ascending order. Display the sorted list.\n",
        "\n",
        "(c) Extend the program to arrange the numbers in descending order as well. Present the sorted list accordingly.\n",
        "\n",
        "(d) Compute and output the average of the entire group of generated numbers.\n",
        "\n",
        "(e) Enhance the program to calculate and display the average of the first 6 numbers from both the ascending and descending sorted lists."
      ]
    },
    {
      "cell_type": "code",
      "execution_count": null,
      "metadata": {
        "colab": {
          "base_uri": "https://localhost:8080/"
        },
        "id": "5QX6bJjGWXY9",
        "outputId": "121d27ab-7854-4b66-b398-445020edaa07"
      },
      "outputs": [
        {
          "output_type": "stream",
          "name": "stdout",
          "text": [
            "12 Random Numbers: [72, 130, 83, 72, 137, 150, 147, 88, 120, 124, 94, 64]\n",
            "Ascending Order of Numbers: [64, 72, 72, 83, 88, 94, 120, 124, 130, 137, 147, 150]\n",
            "Descending Order of Numbers: [150, 147, 137, 130, 124, 120, 94, 88, 83, 72, 72, 64]\n",
            "Overall Average: 106.75\n",
            "Average of First 6 (Ascending Order): 78.83\n",
            "Average of First 6 (Descending Order): 134.67\n"
          ]
        }
      ],
      "source": [
        "import math\n",
        "import random\n",
        "numbers = [random.randint(50, 150) for i in range(12)]\n",
        "ascending_n = sorted(numbers)\n",
        "descending_n = sorted(numbers, reverse=True)\n",
        "overall_average = sum(numbers) / len(numbers)\n",
        "asc_first6_avg = sum(ascending_n[:6]) / 6\n",
        "desc_first6_avg = sum(descending_n[:6]) / 6\n",
        "\n",
        "print(\"12 Random Numbers:\", numbers)\n",
        "print(\"Ascending Order of Numbers:\", ascending_n)\n",
        "print(\"Descending Order of Numbers:\", descending_n)\n",
        "print(\"Overall Average:\", round(overall_average, 2))\n",
        "print(\"Average of First 6 (Ascending Order):\", round(asc_first6_avg, 2))\n",
        "print(\"Average of First 6 (Descending Order):\", round(desc_first6_avg, 2))\n",
        "\n",
        "\n"
      ]
    },
    {
      "cell_type": "markdown",
      "metadata": {
        "id": "1F_PZdH9Sh49"
      },
      "source": [
        "# Question 3 (10 points).\n",
        "\n",
        "Create a Python program that encompasses various string manipulation task:\n",
        "\n",
        "(a) Prompt the user to input two sentences.\n",
        "\n",
        "(b) Transform each sentence into a list, where each element corresponds to a word in the sentence. For example, if the sentences are \"Hello, how are you doing today?\" and \"This is an example sentence for the program!\"\n",
        "\n",
        "The program should output:\n",
        "['Hello', ',', 'how', 'are', 'you', 'doing', 'today', '?', 'This', 'is', 'an', 'example', 'sentence', 'for', 'the', 'program', '!']\n",
        "\n",
        "(c) Compare the two sentences. Print out a list of words that occur in both sentences.\n",
        "\n",
        "(d) Remove any punctuation from the sentence and print the sanitized sentences. It should remove at least the following characters, but it can remove more: period(“.”), comma (“,”), semicolon (“;”), and colon (“:”).\n",
        "\n",
        "(e) Count the number of vowels in each of the sentences. Print out each vowel and the occurrences  in the each of the two sentences separately, such as:\n",
        "\n",
        "Sentence1: a:2, e:2, i:0, etc.\n",
        "Sentence2: a:1, e:2, i:2, etc.\n",
        "\n",
        "Design a well-structured Python program to execute these tasks efficiently."
      ]
    },
    {
      "cell_type": "code",
      "execution_count": 1,
      "metadata": {
        "colab": {
          "base_uri": "https://localhost:8080/"
        },
        "id": "Y0oOSlsOS0cq",
        "outputId": "81fb686a-518c-4dd7-d283-5521ebfa7442"
      },
      "outputs": [
        {
          "output_type": "stream",
          "name": "stdout",
          "text": [
            "Requirement already satisfied: nltk in /usr/local/lib/python3.11/dist-packages (3.9.1)\n",
            "Requirement already satisfied: click in /usr/local/lib/python3.11/dist-packages (from nltk) (8.1.8)\n",
            "Requirement already satisfied: joblib in /usr/local/lib/python3.11/dist-packages (from nltk) (1.4.2)\n",
            "Requirement already satisfied: regex>=2021.8.3 in /usr/local/lib/python3.11/dist-packages (from nltk) (2024.11.6)\n",
            "Requirement already satisfied: tqdm in /usr/local/lib/python3.11/dist-packages (from nltk) (4.67.1)\n"
          ]
        },
        {
          "output_type": "stream",
          "name": "stderr",
          "text": [
            "[nltk_data] Downloading package punkt_tab to /root/nltk_data...\n",
            "[nltk_data]   Unzipping tokenizers/punkt_tab.zip.\n"
          ]
        },
        {
          "output_type": "stream",
          "name": "stdout",
          "text": [
            "enter first sentence:Hello, how are you doing today?\n",
            "enter second sentence:This is an example sentence for the program!\n",
            "Word list: ['Hello', ',', 'how', 'are', 'you', 'doing', 'today', '?', 'This', 'is', 'an', 'example', 'sentence', 'for', 'the', 'program', '!']\n",
            " Cpmmon Words: []\n",
            " Sanitized sentence 1Hello how are you doing today\n",
            " Sanitized sentence 2This is an example sentence for the program\n",
            " Vowel count in Sentence1: a:2, e:2, i:1, o:5, u:1\n",
            "Vowel count in Sentence2: a:3, e:6, i:2, o:2, u:0\n"
          ]
        }
      ],
      "source": [
        "# Your code here\n",
        "!pip install nltk\n",
        "import nltk\n",
        "nltk.download('punkt_tab')\n",
        "import string\n",
        "from collections import Counter\n",
        "\n",
        "s1,s2=input(\"enter first sentence:\"), input(\"enter second sentence:\")\n",
        "w1, w2= nltk.word_tokenize(s1), nltk.word_tokenize(s2)\n",
        "print(f\"Word list: {w1+w2}\")\n",
        "print(f\"Common Words: {list(set(w1) & set(w2))}\")\n",
        "Sanitized_sentence1=''.join(ch for ch in s1 if ch not in string.punctuation)\n",
        "Sanitized_sentence2=''.join(ch for ch in s2 if ch not in string.punctuation)\n",
        "print(f\"Sanitized sentence 1: {Sanitized_sentence1}\")\n",
        "print(f\"Sanitized sentence 2: {Sanitized_sentence2}\")\n",
        "vowels='aeiou'\n",
        "vowel_list1 = [char for char in Sanitized_sentence1.lower() if char in vowels]\n",
        "vowel_list2 =[char for char in Sanitized_sentence2.lower() if char in vowels]\n",
        "vowel_count1 = Counter(vowel_list1)\n",
        "vowel_count2= Counter(vowel_list2)\n",
        "\n",
        "result1= ', '.join([f\"{vowel}:{vowel_count1[vowel]}\" for vowel in vowels])\n",
        "result2 = ', '.join([f\"{vowel}:{vowel_count2[vowel]}\" for vowel in vowels])\n",
        "print(f\"Vowel count in Sentence1: {result1}\")\n",
        "print(f\"Vowel count in Sentence2: {result2}\")\n"
      ]
    },
    {
      "cell_type": "markdown",
      "metadata": {
        "id": "OP4-5qxAtInv"
      },
      "source": [
        "# Question 4 (10 Points)"
      ]
    },
    {
      "cell_type": "markdown",
      "metadata": {
        "id": "uzN4_hDptK9U"
      },
      "source": [
        "Design and implement a simple command-line calculator program. The program should handle both integers and floating-point numbers.\n",
        "\n",
        "(a) Write program that takes a mathematical expression as input and evaluates it. The program should support addition, subtraction, multiplication, and division.\n",
        "\n",
        "(b) Extend the calculator to handle parentheses in mathematical expressions. Implement the necessary logic to evaluate expressions with nested parentheses.\n",
        "\n",
        "(c) Enhance your calculator to include additional mathematical operations such as exponentiation, square root, and modulus.\n",
        "\n",
        "(d) Implement error handling in the calculator program. Handle cases such as division by zero and invalid input expressions. Provide meaningful error messages.\n",
        "\n",
        "(e) Implement a command to exit the calculator."
      ]
    },
    {
      "cell_type": "code",
      "execution_count": null,
      "metadata": {
        "colab": {
          "base_uri": "https://localhost:8080/"
        },
        "id": "8nQnVxjJuYtu",
        "outputId": "21c297aa-6a6c-4655-baa0-f0a10d7d7ef0"
      },
      "outputs": [
        {
          "name": "stdout",
          "output_type": "stream",
          "text": [
            "Supported operations: +, -, *, /, (), ** (exponentiation), sqrt (square root), % (modulus)\n",
            "Type 'exit' to quit.\n",
            "Enter a mathematical expression: 5.0-6\n",
            "Result: -1.0\n",
            "Enter a mathematical expression: 5+9\n",
            "Result: 14\n",
            "Enter a mathematical expression: 14*2\n",
            "Result: 28\n",
            "Enter a mathematical expression: 1/2\n",
            "Result: 0.5\n",
            "Enter a mathematical expression: 5**5\n",
            "Result: 3125\n",
            "Enter a mathematical expression: sqrt(81)\n",
            "Result: 9.0\n",
            "Enter a mathematical expression: 9%3\n",
            "Result: 0\n",
            "Enter a mathematical expression: exit\n"
          ]
        }
      ],
      "source": [
        "import math\n",
        "\n",
        "def  mathematical_expression(expression):\n",
        "    try:\n",
        "        result = eval(expression)\n",
        "        return result\n",
        "    except ZeroDivisionError:\n",
        "        return \"Error: Division by zero is not allowed.\"\n",
        "    except Exception as e:\n",
        "        return f\"Error: {str(e)}\"\n",
        "\n",
        "def calculator():\n",
        "    print(\"Supported operations: +, -, *, /, (), ** (exponentiation), sqrt (square root), % (modulus)\")\n",
        "    print(\"Type 'exit' to quit.\")\n",
        "\n",
        "    while True:\n",
        "        expression = input(\"Enter a mathematical expression: \")\n",
        "        if expression.lower() == 'exit':\n",
        "            break\n",
        "        expression = expression.replace('sqrt', 'math.sqrt')\n",
        "        result = mathematical_expression(expression)\n",
        "        print(f\"Result: {result}\")\n",
        "calculator()\n"
      ]
    },
    {
      "cell_type": "markdown",
      "metadata": {
        "id": "z3tBE7E-Xn5X"
      },
      "source": [
        "# Question 5 (20 points).\n",
        "\n",
        "In the field of Data Science, data is often formatted as a comma-delimited (CSV) file, where each line in a file corresponds to a field's value. Refer to Chapter 9 (p. 106) for more information on comma-delimited files.\n",
        "\n",
        "To answer this question, you will need to download the file [Assignment1_denton_housing.csv](https://raw.githubusercontent.com/unt-iialab/info5731-spring2022/main/assignments/Assignment1_denton_housing.csv) included with this assignment. The file contains statistics about housing in the city of Denton from 2008 to 2014. Write a program to implement the following questions.\n",
        "\n",
        "(a) (5 pts) Calculate the difference in the number of Occupied Housing Units from year to year and print it. The difference must be calculated for the consecutive years such as 2008-2009, 2009-2010 etc. Finally, print the values in the ascending order.\n",
        "\n",
        "(b) (5 pts) For all the years, calculate the percentage of housing units which are vacant an occupied. Print the results in the following format:\n",
        "\n",
        "Year Vacant Housing Units Occupied Housing Units\n",
        "\n",
        "    2008  30%   70%                          \n",
        "\t2009 ----- -----\n",
        "\t2010 ----- -----\n",
        "    2011 ----- -----\n",
        "\t2012 ----- -----\n",
        "    2013 ----- -----\n",
        "\t2014 ----- -----\n",
        "  \n",
        "  \n",
        "\n",
        "(c) (5 pts) Calculate and print the valued and years in which the highest number of housing units were vacant and occupied. Print the results in the following format:  \n",
        "\n",
        "                              Year\tValue\n",
        "\tVacant Housing Units\t  -----   -----\n",
        "\tOccupied Housing Units\t-----   -----\n",
        "\n",
        "(d) (5 pts) Calculate the harmonic mean of the total housing units and print it out. You can find the information about harmonic mean here: https://ncalculators.com/statistics/harmonic-mean-calculator.htm"
      ]
    },
    {
      "cell_type": "code",
      "execution_count": null,
      "metadata": {
        "colab": {
          "base_uri": "https://localhost:8080/"
        },
        "id": "lqGYuHBhcsRH",
        "outputId": "8cd8e883-28c5-464d-f3e4-e064daad092a"
      },
      "outputs": [
        {
          "name": "stdout",
          "output_type": "stream",
          "text": [
            "Question A\n",
            "    year             title_field  value  consecutive year difference\n",
            "2   2014  Occupied Housing Units  46295                          NaN\n",
            "5   2013  Occupied Housing Units  43673                      -2622.0\n",
            "8   2012  Occupied Housing Units  42108                      -1565.0\n",
            "11  2011  Occupied Housing Units  40704                      -1404.0\n",
            "14  2010  Occupied Housing Units  41007                        303.0\n",
            "17  2009  Occupied Housing Units  35916                      -5091.0\n",
            "20  2008  Occupied Housing Units  36711                        795.0\n",
            "Question B\n",
            "2008.0   10.88 %   89.12 %\n",
            "2009.0   9.07 %   90.93 %\n",
            "2010.0   8.14 %   91.86 %\n",
            "2011.0   9.38 %   90.62 %\n",
            "2012.0   6.68 %   93.32 %\n",
            "2013.0   8.8 %   91.2 %\n",
            "2014.0   5.73 %   94.27 %\n",
            "Question C\n",
            "Vacant Housing Units 2008.0 4483.0\n",
            "Occupied Housing Units 2014.0 46295.0\n",
            "Question D\n",
            "44398.28543969185\n"
          ]
        }
      ],
      "source": [
        " # Your code here\n",
        "\n",
        "import pandas as pd\n",
        "import scipy.stats as stats\n",
        "#a\n",
        "print(\"Question A\")\n",
        "df=pd.read_csv(\"/Assignment1_denton_housing.csv\")\n",
        "df[df[\"title_field\"]==\"Occupied Housing Units\"]\n",
        "df_1=df[df[\"title_field\"]==\"Occupied Housing Units\"].copy()\n",
        "df_1[\"consecutive year difference\"]=df_1.sort_values(\"year\")[\"value\"].diff(-1)\n",
        "print(df_1)\n",
        "#b\n",
        "print(\"Question B\")\n",
        "df_2=df.pivot(index=\"year\", columns=\"title_field\", values=\"value\").reset_index()\n",
        "df_2[\"VC\"]= ((df_2[\"Vacant Housing Units\"]/df_2[\"Total Housing Units\"])*100).round(2)\n",
        "df_2[\"OP\"]= ((df_2[\"Occupied Housing Units\"]/df_2[\"Total Housing Units\"])*100).round(2)\n",
        "\n",
        "for i, r in df_2.iterrows():\n",
        "    print(r[\"year\"],\" \",r[\"VC\"], \"%\",\" \",r[\"OP\"],\"%\")\n",
        "\n",
        "#c\n",
        "print(\"Question C\")\n",
        "Vacant_Housing_Units= df_2.loc[df_2['Vacant Housing Units'].idxmax()]\n",
        "print(\"Vacant Housing Units\", Vacant_Housing_Units[\"year\"], Vacant_Housing_Units[\"Vacant Housing Units\"] )\n",
        "Occupied_Housing_Units =df_2.loc[df_2['Occupied Housing Units'].idxmax()]\n",
        "print(\"Occupied Housing Units\", Occupied_Housing_Units[\"year\"], Occupied_Housing_Units[\"Occupied Housing Units\"] )\n",
        "\n",
        "#d\n",
        "print(\"Question D\")\n",
        "print(stats.hmean(df_2['Total Housing Units']))\n",
        "\n"
      ]
    },
    {
      "cell_type": "markdown",
      "metadata": {
        "id": "DB9XtkavJmsO"
      },
      "source": [
        "# **For question 6 and 7 you can take AI assitance to solve.**\n",
        "\n",
        "Make sure you follow the instructions given in class to answer these questions.\n",
        "\n",
        "\n",
        "**Important points:**\n",
        "\n",
        "1.   You must come up with at least 10 edge cases.\n",
        "2.   You should provide prompts and revised prompts given to ChatGPT.\n",
        "2.   Debug your code and write comments for each block of code\n",
        "3.   Analyzing error will not consider as edge case.\n",
        "\n",
        "Edge cases are like real life scienarios which are realated to the given question."
      ]
    },
    {
      "cell_type": "markdown",
      "metadata": {
        "id": "BAfp-70D2Cay"
      },
      "source": [
        "# Question 6 (20 points).\n",
        "Develop a advance Python program to manage inventory records for a prodcut managing company. The system needs functions for adding, deleting and changing products and basic search options. Your system should use CSV files to automate restocking and produce reports that show item values alongside category breakdowns. Manage edge cases and corrupted CSV files. Finally maintaine 50 products of different categories in inventory."
      ]
    },
    {
      "cell_type": "code",
      "execution_count": null,
      "metadata": {
        "colab": {
          "base_uri": "https://localhost:8080/"
        },
        "id": "w8dE2dJb2quE",
        "outputId": "0889f077-af12-453f-f188-f6d39b035b11"
      },
      "outputs": [
        {
          "output_type": "stream",
          "name": "stdout",
          "text": [
            "Testing edge case: Invalid file format\n",
            "Error: Inventory file not found.\n",
            "Testing edge case: Add product with duplicate ID\n",
            "Error: Product ID 1 already exists.\n",
            "\n",
            "Testing edge case: Add product with missing data\n",
            "Error: Missing required product details (name, category, quantity, price).\n",
            "\n",
            "Testing edge case: Delete product with non-existent ID\n",
            "Error: Product ID 999 not found for deletion.\n",
            "\n",
            "Testing edge case: Update product with negative quantity\n",
            "Error: Quantity cannot be negative.\n",
            "\n",
            "Testing edge case: Non-numeric Product ID\n",
            "Error while saving inventory: dict contains fields not in fieldnames: 'Name'\n",
            "\n",
            "Testing edge case: Search with no results\n",
            "No products found for category: NonExistentCategory\n",
            "\n",
            "Category Breakdown Report:\n",
            "Category3: $181671.17\n",
            "Category2: $80632.52\n",
            "Category1: $113246.98\n",
            "Category5: $111322.08\n",
            "Category4: $222494.67\n",
            "Electronics: $19999.50\n"
          ]
        }
      ],
      "source": [
        "import csv\n",
        "import os\n",
        "\n",
        "# Define the file path for the inventory CSV\n",
        "inventory_file = \"inventory.csv\"\n",
        "\n",
        "# Create a sample inventory with 50 products of different categories if not exists\n",
        "def create_sample_inventory():\n",
        "    if not os.path.exists(inventory_file):\n",
        "        fieldnames = ['ID', 'Product Name', 'Category', 'Quantity', 'Price']\n",
        "        sample_data = [\n",
        "            [1, 'Product A', 'Electronics', 30, 199.99],\n",
        "            [2, 'Product B', 'Electronics', 50, 299.99],\n",
        "            [3, 'Product C', 'Clothing', 100, 29.99],\n",
        "            [4, 'Product D', 'Clothing', 80, 39.99],\n",
        "            [5, 'Product E', 'Toys', 150, 9.99],\n",
        "            [6, 'Product F', 'Toys', 90, 14.99],\n",
        "            [7, 'Product G', 'Furniture', 20, 499.99],\n",
        "            [8, 'Product H', 'Furniture', 15, 299.99],\n",
        "            [9, 'Product I', 'Appliances', 25, 89.99],\n",
        "            [10, 'Product J', 'Appliances', 40, 149.99],\n",
        "            [11, 'Product K', 'Sports', 60, 19.99],\n",
        "            [12, 'Product L', 'Sports', 70, 29.99],\n",
        "            [13, 'Product M', 'Electronics', 120, 999.99],\n",
        "            [14, 'Product N', 'Clothing', 200, 49.99],\n",
        "            [15, 'Product O', 'Toys', 40, 5.99],\n",
        "            [16, 'Product P', 'Furniture', 25, 249.99],\n",
        "            [17, 'Product Q', 'Furniture', 15, 399.99],\n",
        "            [18, 'Product R', 'Appliances', 10, 199.99],\n",
        "            [19, 'Product S', 'Appliances', 30, 249.99],\n",
        "            [20, 'Product T', 'Sports', 90, 39.99],\n",
        "            [21, 'Product U', 'Electronics', 60, 299.99],\n",
        "            [22, 'Product V', 'Electronics', 50, 599.99],\n",
        "            [23, 'Product W', 'Clothing', 180, 19.99],\n",
        "            [24, 'Product X', 'Clothing', 220, 69.99],\n",
        "            [25, 'Product Y', 'Toys', 200, 12.99],\n",
        "            [26, 'Product Z', 'Toys', 150, 18.99],\n",
        "            [27, 'Product AA', 'Furniture', 40, 149.99],\n",
        "            [28, 'Product AB', 'Furniture', 50, 199.99],\n",
        "            [29, 'Product AC', 'Appliances', 100, 399.99],\n",
        "            [30, 'Product AD', 'Appliances', 75, 299.99],\n",
        "            [31, 'Product AE', 'Sports', 50, 59.99],\n",
        "            [32, 'Product AF', 'Sports', 80, 79.99],\n",
        "            [33, 'Product AG', 'Electronics', 90, 199.99],\n",
        "            [34, 'Product AH', 'Clothing', 110, 39.99],\n",
        "            [35, 'Product AI', 'Clothing', 130, 29.99],\n",
        "            [36, 'Product AJ', 'Toys', 160, 14.99],\n",
        "            [37, 'Product AK', 'Toys', 70, 8.99],\n",
        "            [38, 'Product AL', 'Furniture', 30, 129.99],\n",
        "            [39, 'Product AM', 'Furniture', 40, 169.99],\n",
        "            [40, 'Product AN', 'Appliances', 150, 199.99],\n",
        "            [41, 'Product AO', 'Appliances', 100, 249.99],\n",
        "            [42, 'Product AP', 'Sports', 120, 89.99],\n",
        "            [43, 'Product AQ', 'Sports', 140, 99.99],\n",
        "            [44, 'Product AR', 'Electronics', 50, 399.99],\n",
        "            [45, 'Product AS', 'Electronics', 80, 149.99],\n",
        "            [46, 'Product AT', 'Clothing', 90, 59.99],\n",
        "            [47, 'Product AU', 'Clothing', 110, 79.99],\n",
        "            [48, 'Product AV', 'Toys', 130, 21.99],\n",
        "            [49, 'Product AW', 'Toys', 90, 15.99],\n",
        "            [50, 'Product AX', 'Furniture', 80, 349.99],\n",
        "        ]\n",
        "\n",
        "        # Write to CSV\n",
        "        with open(inventory_file, mode='w', newline='') as file:\n",
        "            writer = csv.writer(file)\n",
        "            writer.writerow(fieldnames)\n",
        "            writer.writerows(sample_data)\n",
        "\n",
        "# Function to read and load inventory from CSV\n",
        "def load_inventory():\n",
        "    inventory = []\n",
        "    try:\n",
        "        with open(inventory_file, mode='r') as file:\n",
        "            reader = csv.DictReader(file)\n",
        "            for row in reader:\n",
        "                inventory.append(row)\n",
        "    except FileNotFoundError:\n",
        "        print(\"Error: Inventory file not found.\")\n",
        "    except Exception as e:\n",
        "        print(f\"Error: {e}\")\n",
        "    return inventory\n",
        "\n",
        "# Function to write inventory back to CSV\n",
        "def save_inventory(inventory):\n",
        "    try:\n",
        "        fieldnames = ['ID', 'Product Name', 'Category', 'Quantity', 'Price']\n",
        "        with open(inventory_file, mode='w', newline='') as file:\n",
        "            writer = csv.DictWriter(file, fieldnames=fieldnames)\n",
        "            writer.writeheader()\n",
        "            writer.writerows(inventory)\n",
        "    except Exception as e:\n",
        "        print(f\"Error while saving inventory: {e}\")\n",
        "\n",
        "# Function to add a product to the inventory\n",
        "def add_product(inventory, id, name, category, quantity, price):\n",
        "    # Edge case: Check for duplicate product ID\n",
        "    if any(product['ID'] == str(id) for product in inventory):\n",
        "        print(f\"Error: Product ID {id} already exists.\")\n",
        "        return\n",
        "    if not name or not category or quantity is None or price is None:\n",
        "        print(\"Error: Missing required product details (name, category, quantity, price).\")\n",
        "        return\n",
        "    try:\n",
        "        new_product = {\n",
        "            'ID': id,\n",
        "            'Product Name': name,\n",
        "            'Category': category,\n",
        "            'Quantity': quantity,\n",
        "            'Price': price\n",
        "        }\n",
        "        inventory.append(new_product)\n",
        "        save_inventory(inventory)\n",
        "    except ValueError as ve:\n",
        "        print(f\"Invalid data type for product ID {id}: {ve}\")\n",
        "\n",
        "# Function to delete a product from the inventory\n",
        "def delete_product(inventory, id):\n",
        "    # Edge case: Check if the product ID exists\n",
        "    if not any(product['ID'] == str(id) for product in inventory):\n",
        "        print(f\"Error: Product ID {id} not found for deletion.\")\n",
        "        return\n",
        "    inventory = [product for product in inventory if product['ID'] != str(id)]\n",
        "    save_inventory(inventory)\n",
        "\n",
        "# Function to update a product's details\n",
        "def update_product(inventory, id, name=None, category=None, quantity=None, price=None):\n",
        "    # Edge case: Check if the product ID exists\n",
        "    product = next((product for product in inventory if product['ID'] == str(id)), None)\n",
        "    if not product:\n",
        "        print(f\"Error: Product ID {id} not found for updating.\")\n",
        "        return\n",
        "    if quantity is not None and quantity < 0:\n",
        "        print(\"Error: Quantity cannot be negative.\")\n",
        "        return\n",
        "    if price is not None and price < 0:\n",
        "        print(\"Error: Price cannot be negative.\")\n",
        "        return\n",
        "    if name:\n",
        "        product['Product Name'] = name\n",
        "    if category:\n",
        "        product['Category'] = category\n",
        "    if quantity is not None:\n",
        "        product['Quantity'] = quantity\n",
        "    if price is not None:\n",
        "        product['Price'] = price\n",
        "    save_inventory(inventory)\n",
        "\n",
        "# Function to search products by category\n",
        "def search_by_category(inventory, category):\n",
        "    results = [product for product in inventory if product['Category'].lower() == category.lower()]\n",
        "    if not results:\n",
        "        print(f\"No products found for category: {category}\")\n",
        "    return results\n",
        "\n",
        "# Function to generate a report based on category breakdown\n",
        "def generate_report(inventory):\n",
        "    category_totals = {}\n",
        "    for product in inventory:\n",
        "        category = product['Category']\n",
        "        value = int(product['Quantity']) * float(product['Price'])\n",
        "        if category in category_totals:\n",
        "            category_totals[category] += value\n",
        "        else:\n",
        "            category_totals[category] = value\n",
        "\n",
        "    print(\"\\nCategory Breakdown Report:\")\n",
        "    for category, total_value in category_totals.items():\n",
        "        print(f\"{category}: ${total_value:.2f}\")\n",
        "\n",
        "# Edge case testing\n",
        "if __name__ == \"__main__\":\n",
        "    create_sample_inventory()\n",
        "    inventory = load_inventory()\n",
        "\n",
        "    # Test edge cases\n",
        "\n",
        "    print(\"Testing edge case: Invalid file format\")\n",
        "    inventory_file = \"inventory.txt\"\n",
        "    load_inventory()\n",
        "\n",
        "    print(\"Testing edge case: Add product with duplicate ID\")\n",
        "    add_product(inventory, 1, 'Product AY', 'Electronics', 50, 399.99)\n",
        "\n",
        "    print(\"\\nTesting edge case: Add product with missing data\")\n",
        "    add_product(inventory, 51, '', 'Electronics', 50, 399.99)\n",
        "\n",
        "    print(\"\\nTesting edge case: Delete product with non-existent ID\")\n",
        "    delete_product(inventory, 999)\n",
        "\n",
        "    print(\"\\nTesting edge case: Update product with negative quantity\")\n",
        "    update_product(inventory, 1, quantity=-5)\n",
        "\n",
        "    print(\"\\nTesting edge case: Non-numeric Product ID\")\n",
        "    add_product(inventory, 'abc', 'Product AY', 'Electronics', 50, 399.99)\n",
        "\n",
        "    print(\"\\nTesting edge case: Search with no results\")\n",
        "    search_by_category(inventory, 'NonExistentCategory')\n",
        "\n",
        "    # Generate category report\n",
        "    generate_report(inventory)\n",
        "\n",
        "\n",
        "#prompt\n",
        "#ChatGPT\n",
        "#Develop a advance Python program to manage inventory records for a prodcut managing company. The system needs functions for adding, deleting and changing products and basic search options. Your system should use CSV files to automate restocking and produce reports that show item values alongside category breakdowns. Manage edge cases and corrupted CSV files. Finally maintaine 50 products of different categories in inventory."
      ]
    },
    {
      "cell_type": "code",
      "source": [
        "from google.colab import drive\n",
        "drive.mount('/content/drive')"
      ],
      "metadata": {
        "colab": {
          "base_uri": "https://localhost:8080/"
        },
        "id": "bI0f6unIbRDf",
        "outputId": "9765b71c-9474-4dd5-e8c4-532825e2cbc1"
      },
      "execution_count": null,
      "outputs": [
        {
          "output_type": "stream",
          "name": "stdout",
          "text": [
            "Drive already mounted at /content/drive; to attempt to forcibly remount, call drive.mount(\"/content/drive\", force_remount=True).\n"
          ]
        }
      ]
    },
    {
      "cell_type": "markdown",
      "metadata": {
        "id": "290UJiNg2xES"
      },
      "source": [
        "# Question 7 (20 points)\n",
        "\n",
        "Create a well desined Python program for a flight booking system. Offer core functions for adding new flights, finding trips, reserving and releasing seating space and creating performance reports. Ensure the system manages edge cases like invalid input, overbooking, and cancellations. Finally, extend the booking system by including advanced features and maintain about 50 flight in the system."
      ]
    },
    {
      "cell_type": "code",
      "execution_count": null,
      "metadata": {
        "colab": {
          "base_uri": "https://localhost:8080/"
        },
        "id": "dME5iWD53ADa",
        "outputId": "cc23ba8c-8799-4bba-d693-c4fab54f95bc"
      },
      "outputs": [
        {
          "output_type": "stream",
          "name": "stdout",
          "text": [
            "Available Flights:\n",
            "Flight FL-1: Dallas -> New York | Seats: 195/195 available\n",
            "Flight FL-2: Los Angeles -> Denver | Seats: 78/78 available\n",
            "Flight FL-3: Atlanta -> Seattle | Seats: 155/155 available\n",
            "Flight FL-4: Seattle -> Denver | Seats: 105/105 available\n",
            "Flight FL-5: Seattle -> Chicago | Seats: 189/189 available\n",
            "Flight FL-6: New York -> Miami | Seats: 56/56 available\n",
            "Flight FL-7: New York -> Atlanta | Seats: 77/77 available\n",
            "Flight FL-8: Denver -> San Francisco | Seats: 170/170 available\n",
            "Flight FL-9: Denver -> Chicago | Seats: 106/106 available\n",
            "Flight FL-10: Houston -> Miami | Seats: 63/63 available\n",
            "Flight FL-11: New York -> Atlanta | Seats: 107/107 available\n",
            "Flight FL-12: Seattle -> Miami | Seats: 99/99 available\n",
            "Flight FL-13: Chicago -> Los Angeles | Seats: 183/183 available\n",
            "Flight FL-14: Chicago -> Seattle | Seats: 99/99 available\n",
            "Flight FL-15: Atlanta -> Denver | Seats: 156/156 available\n",
            "Flight FL-16: Dallas -> Atlanta | Seats: 132/132 available\n",
            "Flight FL-17: Miami -> Chicago | Seats: 143/143 available\n",
            "Flight FL-18: Houston -> Atlanta | Seats: 124/124 available\n",
            "Flight FL-19: Houston -> Los Angeles | Seats: 55/55 available\n",
            "Flight FL-20: Dallas -> Atlanta | Seats: 130/130 available\n",
            "Flight FL-21: Miami -> Atlanta | Seats: 122/122 available\n",
            "Flight FL-22: San Francisco -> Chicago | Seats: 70/70 available\n",
            "Flight FL-23: Houston -> Atlanta | Seats: 80/80 available\n",
            "Flight FL-24: San Francisco -> Atlanta | Seats: 54/54 available\n",
            "Flight FL-25: Atlanta -> Dallas | Seats: 102/102 available\n",
            "Flight FL-26: San Francisco -> Houston | Seats: 200/200 available\n",
            "Flight FL-27: Los Angeles -> Houston | Seats: 123/123 available\n",
            "Flight FL-28: Los Angeles -> Chicago | Seats: 187/187 available\n",
            "Flight FL-29: Atlanta -> Dallas | Seats: 143/143 available\n",
            "Flight FL-30: Atlanta -> Miami | Seats: 191/191 available\n",
            "Flight FL-31: Seattle -> Chicago | Seats: 61/61 available\n",
            "Flight FL-32: San Francisco -> Denver | Seats: 183/183 available\n",
            "Flight FL-33: Chicago -> Los Angeles | Seats: 149/149 available\n",
            "Flight FL-34: Denver -> Miami | Seats: 114/114 available\n",
            "Flight FL-35: Chicago -> Seattle | Seats: 100/100 available\n",
            "Flight FL-36: Los Angeles -> Denver | Seats: 183/183 available\n",
            "Flight FL-37: Atlanta -> Miami | Seats: 185/185 available\n",
            "Flight FL-38: San Francisco -> Los Angeles | Seats: 158/158 available\n",
            "Flight FL-39: Seattle -> Los Angeles | Seats: 119/119 available\n",
            "Flight FL-40: Chicago -> Houston | Seats: 83/83 available\n",
            "Flight FL-41: Atlanta -> New York | Seats: 151/151 available\n",
            "Flight FL-42: Los Angeles -> Dallas | Seats: 189/189 available\n",
            "Flight FL-43: New York -> Los Angeles | Seats: 70/70 available\n",
            "Flight FL-44: Dallas -> Denver | Seats: 130/130 available\n",
            "Flight FL-45: Atlanta -> Houston | Seats: 137/137 available\n",
            "Flight FL-46: New York -> Miami | Seats: 130/130 available\n",
            "Flight FL-47: Dallas -> Denver | Seats: 134/134 available\n",
            "Flight FL-48: Dallas -> Seattle | Seats: 94/94 available\n",
            "Flight FL-49: Dallas -> New York | Seats: 122/122 available\n",
            "Flight FL-50: New York -> Seattle | Seats: 158/158 available\n",
            "\n",
            "Booking -1 seats on FL-1:\n",
            "Invalid seat count. Must be greater than zero.\n",
            "\n",
            "Booking 0 seats on FL-1:\n",
            "Invalid seat count. Must be greater than zero.\n",
            "\n",
            "Booking 201 seats on FL-1:\n",
            "Not enough seats available.\n",
            "\n",
            "Booking 3 seats on FL-999:\n",
            "Flight ID not found.\n",
            "\n",
            "Booking 3 seats on FL-1:\n",
            "Booking successful.\n",
            "\n",
            "Booking 200 seats on FL-1:\n",
            "Not enough seats available.\n",
            "\n",
            "Booking -5 seats on FL-1:\n",
            "Invalid seat count. Must be greater than zero.\n",
            "\n",
            "Booking 5 seats on FL-1:\n",
            "Booking successful.\n",
            "\n",
            "Booking 10 seats on FL-1:\n",
            "Booking successful.\n",
            "\n",
            "Booking 2 seats on FL-999:\n",
            "Flight ID not found.\n",
            "\n",
            "Generating report:\n",
            "Flight Booking Report:\n",
            "Flight FL-1: Dallas -> New York | Seats: 177/195 available\n",
            "Flight FL-2: Los Angeles -> Denver | Seats: 78/78 available\n",
            "Flight FL-3: Atlanta -> Seattle | Seats: 155/155 available\n",
            "Flight FL-4: Seattle -> Denver | Seats: 105/105 available\n",
            "Flight FL-5: Seattle -> Chicago | Seats: 189/189 available\n",
            "Flight FL-6: New York -> Miami | Seats: 56/56 available\n",
            "Flight FL-7: New York -> Atlanta | Seats: 77/77 available\n",
            "Flight FL-8: Denver -> San Francisco | Seats: 170/170 available\n",
            "Flight FL-9: Denver -> Chicago | Seats: 106/106 available\n",
            "Flight FL-10: Houston -> Miami | Seats: 63/63 available\n",
            "Flight FL-11: New York -> Atlanta | Seats: 107/107 available\n",
            "Flight FL-12: Seattle -> Miami | Seats: 99/99 available\n",
            "Flight FL-13: Chicago -> Los Angeles | Seats: 183/183 available\n",
            "Flight FL-14: Chicago -> Seattle | Seats: 99/99 available\n",
            "Flight FL-15: Atlanta -> Denver | Seats: 156/156 available\n",
            "Flight FL-16: Dallas -> Atlanta | Seats: 132/132 available\n",
            "Flight FL-17: Miami -> Chicago | Seats: 143/143 available\n",
            "Flight FL-18: Houston -> Atlanta | Seats: 124/124 available\n",
            "Flight FL-19: Houston -> Los Angeles | Seats: 55/55 available\n",
            "Flight FL-20: Dallas -> Atlanta | Seats: 130/130 available\n",
            "Flight FL-21: Miami -> Atlanta | Seats: 122/122 available\n",
            "Flight FL-22: San Francisco -> Chicago | Seats: 70/70 available\n",
            "Flight FL-23: Houston -> Atlanta | Seats: 80/80 available\n",
            "Flight FL-24: San Francisco -> Atlanta | Seats: 54/54 available\n",
            "Flight FL-25: Atlanta -> Dallas | Seats: 102/102 available\n",
            "Flight FL-26: San Francisco -> Houston | Seats: 200/200 available\n",
            "Flight FL-27: Los Angeles -> Houston | Seats: 123/123 available\n",
            "Flight FL-28: Los Angeles -> Chicago | Seats: 187/187 available\n",
            "Flight FL-29: Atlanta -> Dallas | Seats: 143/143 available\n",
            "Flight FL-30: Atlanta -> Miami | Seats: 191/191 available\n",
            "Flight FL-31: Seattle -> Chicago | Seats: 61/61 available\n",
            "Flight FL-32: San Francisco -> Denver | Seats: 183/183 available\n",
            "Flight FL-33: Chicago -> Los Angeles | Seats: 149/149 available\n",
            "Flight FL-34: Denver -> Miami | Seats: 114/114 available\n",
            "Flight FL-35: Chicago -> Seattle | Seats: 100/100 available\n",
            "Flight FL-36: Los Angeles -> Denver | Seats: 183/183 available\n",
            "Flight FL-37: Atlanta -> Miami | Seats: 185/185 available\n",
            "Flight FL-38: San Francisco -> Los Angeles | Seats: 158/158 available\n",
            "Flight FL-39: Seattle -> Los Angeles | Seats: 119/119 available\n",
            "Flight FL-40: Chicago -> Houston | Seats: 83/83 available\n",
            "Flight FL-41: Atlanta -> New York | Seats: 151/151 available\n",
            "Flight FL-42: Los Angeles -> Dallas | Seats: 189/189 available\n",
            "Flight FL-43: New York -> Los Angeles | Seats: 70/70 available\n",
            "Flight FL-44: Dallas -> Denver | Seats: 130/130 available\n",
            "Flight FL-45: Atlanta -> Houston | Seats: 137/137 available\n",
            "Flight FL-46: New York -> Miami | Seats: 130/130 available\n",
            "Flight FL-47: Dallas -> Denver | Seats: 134/134 available\n",
            "Flight FL-48: Dallas -> Seattle | Seats: 94/94 available\n",
            "Flight FL-49: Dallas -> New York | Seats: 122/122 available\n",
            "Flight FL-50: New York -> Seattle | Seats: 158/158 available\n",
            "\n"
          ]
        }
      ],
      "source": [
        "import random\n",
        "\n",
        "class Flight:\n",
        "    def __init__(self, flight_id, origin, destination, seats):\n",
        "        self.flight_id = flight_id\n",
        "        self.origin = origin\n",
        "        self.destination = destination\n",
        "        self.total_seats = seats\n",
        "        self.available_seats = seats\n",
        "        self.booked_seats = 0\n",
        "\n",
        "    def book_seat(self, num_seats=1):\n",
        "        if num_seats <= 0:\n",
        "            return False, \"Invalid seat count. Must be greater than zero.\"\n",
        "        if num_seats > self.available_seats:\n",
        "            return False, \"Not enough seats available.\"\n",
        "        self.available_seats -= num_seats\n",
        "        self.booked_seats += num_seats\n",
        "        return True, \"Booking successful.\"\n",
        "\n",
        "    def release_seat(self, num_seats=1):\n",
        "        if num_seats <= 0:\n",
        "            return False, \"Invalid seat count. Must be greater than zero.\"\n",
        "        if num_seats > self.booked_seats:\n",
        "            return False, \"Cannot cancel more seats than booked.\"\n",
        "        self.available_seats += num_seats\n",
        "        self.booked_seats -= num_seats\n",
        "        return True, \"Cancellation successful.\"\n",
        "\n",
        "    def __str__(self):\n",
        "        return f\"Flight {self.flight_id}: {self.origin} -> {self.destination} | Seats: {self.available_seats}/{self.total_seats} available\"\n",
        "\n",
        "class FlightBookingSystem:\n",
        "    def __init__(self):\n",
        "        self.flights = []\n",
        "        self.generate_flights()\n",
        "\n",
        "    def generate_flights(self, num_flights=50):\n",
        "        cities = ['New York', 'Los Angeles', 'Chicago', 'Houston', 'Miami', 'Dallas', 'Atlanta', 'Denver', 'Seattle', 'San Francisco']\n",
        "        for i in range(num_flights):\n",
        "            origin, destination = random.sample(cities, 2)\n",
        "            seats = random.randint(50, 200)\n",
        "            self.flights.append(Flight(f\"FL-{i+1}\", origin, destination, seats))\n",
        "\n",
        "    def find_flight(self, origin, destination):\n",
        "        return [flight for flight in self.flights if flight.origin == origin and flight.destination == destination]\n",
        "\n",
        "    def book_flight(self, flight_id, num_seats=1):\n",
        "        for flight in self.flights:\n",
        "            if flight.flight_id == flight_id:\n",
        "                return flight.book_seat(num_seats)\n",
        "        return False, \"Flight ID not found.\"\n",
        "\n",
        "    def cancel_booking(self, flight_id, num_seats=1):\n",
        "        for flight in self.flights:\n",
        "            if flight.flight_id == flight_id:\n",
        "                return flight.release_seat(num_seats)\n",
        "        return False, \"Flight ID not found.\"\n",
        "\n",
        "    def generate_report(self):\n",
        "        report = \"Flight Booking Report:\\n\"\n",
        "        for flight in self.flights:\n",
        "            report += f\"{flight}\\n\"\n",
        "        return report\n",
        "\n",
        "    def __str__(self):\n",
        "        return '\\n'.join(str(flight) for flight in self.flights)\n",
        "\n",
        "# Example usage\n",
        "if __name__ == \"__main__\":\n",
        "    system = FlightBookingSystem()\n",
        "    print(\"Available Flights:\")\n",
        "    print(system)\n",
        "\n",
        "    # Edge Case Testing\n",
        "    test_cases = [\n",
        "        (\"FL-1\", -1),  # Invalid seat count\n",
        "        (\"FL-1\", 0),   # Invalid seat count\n",
        "        (\"FL-1\", 201), # Overbooking\n",
        "        (\"FL-999\", 3), # Non-existent flight\n",
        "        (\"FL-1\", 3),   # Valid booking\n",
        "        (\"FL-1\", 200), # Overbooking after partial booking\n",
        "        (\"FL-1\", -5),  # Invalid seat cancellation\n",
        "        (\"FL-1\", 5),   # Valid cancellation\n",
        "        (\"FL-1\", 10),  # Cancel more than booked\n",
        "        (\"FL-999\", 2)  # Cancel non-existent flight\n",
        "    ]\n",
        "\n",
        "    for flight_id, seats in test_cases:\n",
        "        print(f\"\\nBooking {seats} seats on {flight_id}:\")\n",
        "        success, message = system.book_flight(flight_id, seats)\n",
        "        print(message)\n",
        "\n",
        "    print(\"\\nGenerating report:\")\n",
        "    print(system.generate_report())\n",
        "\n",
        "#prompt\n",
        "#ChatGPT\n",
        "#Create a well desined Python program for a flight booking system. Offer core functions for adding new flights, finding trips, reserving and releasing seating space and creating performance reports. Ensure the system manages edge cases like invalid input, overbooking, and cancellations. Finally, extend the booking system by including advanced features and maintain about 50 flight in the system.\n",
        "\n",
        "\n",
        "\n",
        "\n"
      ]
    },
    {
      "cell_type": "markdown",
      "metadata": {
        "id": "q8BFCvWp32cf"
      },
      "source": [
        "# Mandatory Question\n",
        "\n",
        "Provide your thoughts on the assignment. What did you find challenging, and what aspects did you enjoy? Your opinion on the provided time to complete the assignment. Share any suggestions for improvement. Your feedback will be valuable for enhancing the learning experience."
      ]
    },
    {
      "cell_type": "code",
      "execution_count": null,
      "metadata": {
        "id": "_e557s2w4BpK"
      },
      "outputs": [],
      "source": [
        "# Write your response below\n",
        "\n",
        "#Overall, the assignment was challenging, especially the last two question were quite intresting and learned a lot when writing the edge cases which made me think deeply and the rest of the question were basic but tried my best to optimise them. Looking forward for more like these practical assigments which would be very helpfull to build competitive programming skills.\n",
        "\n",
        "\n",
        "#Here is the link of the Colab notebook after changing the settings:\n",
        "#\"https://colab.research.google.com/drive/1kybs0c50fZxOWtbT8Ay2oSw8aKwdXfaT?usp=sharing\"\n",
        "\n"
      ]
    }
  ],
  "metadata": {
    "colab": {
      "provenance": [],
      "include_colab_link": true
    },
    "kernelspec": {
      "display_name": "base",
      "language": "python",
      "name": "python3"
    },
    "language_info": {
      "codemirror_mode": {
        "name": "ipython",
        "version": 3
      },
      "file_extension": ".py",
      "mimetype": "text/x-python",
      "name": "python",
      "nbconvert_exporter": "python",
      "pygments_lexer": "ipython3",
      "version": "3.12.7"
    }
  },
  "nbformat": 4,
  "nbformat_minor": 0
}